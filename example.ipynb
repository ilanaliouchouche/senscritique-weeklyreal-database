{
 "cells": [
  {
   "cell_type": "markdown",
   "metadata": {},
   "source": [
    "# Example of Extraction Transformation & Loading manually in PGVector using all classes\n",
    "\n",
    "In this notebook, we will see how to retrieve data on movies released this week by extracting them from [sens-critique](https://www.senscritique.com/). We will transform them and do the embedding of the reviews with the LLM [intfloat/multilingual-e5-large](https://huggingface.co/intfloat/multilingual-e5-large/tree/main) and [Text Embedding Inference](https://github.com/huggingface/text-embeddings-inference). Finally, we will integrate this data into [PGVector Database](https://github.com/pgvector/pgvector)"
   ]
  },
  {
   "cell_type": "markdown",
   "metadata": {},
   "source": [
    "The classes used in this notebook are those of the project where you are located, available [here](https://github.com/ilanaliouchouche/senscritique-weeklyreal-database/tree/main/etl)"
   ]
  },
  {
   "cell_type": "markdown",
   "metadata": {},
   "source": [
    "<p align=\"left\">\n",
    "  <img src=\"res/sc.jpg\" width=\"200\">\n",
    "</p>"
   ]
  },
  {
   "cell_type": "markdown",
   "metadata": {},
   "source": [
    "## Setting up PGVector and TEI Containers\n",
    "\n",
    "To set up the PGVector and TEI containers, follow the steps below:"
   ]
  },
  {
   "cell_type": "markdown",
   "metadata": {},
   "source": [
    "<img src=\"res/hf.png\" width=\"175\">\n",
    "<img src=\"res/pg.png\" width=\"175\">"
   ]
  },
  {
   "cell_type": "markdown",
   "metadata": {},
   "source": [
    "1. Run the following command to start the PGVector container:"
   ]
  },
  {
   "cell_type": "code",
   "execution_count": 3,
   "metadata": {},
   "outputs": [
    {
     "name": "stdout",
     "output_type": "stream",
     "text": [
      "a8a7ba6f50f22fb0977d4b309ce854dce415085dada1bca11eee975e2715fa30\n"
     ]
    }
   ],
   "source": [
    "!docker run --name db_sc -p 5432:5432 -e POSTGRES_PASSWORD=dw2 -v data:/var/lib/postgresql/data  -d ankane/pgvector "
   ]
  },
  {
   "cell_type": "markdown",
   "metadata": {},
   "source": [
    "2. Run the following command to start the TEI container:"
   ]
  },
  {
   "cell_type": "code",
   "execution_count": 4,
   "metadata": {},
   "outputs": [
    {
     "name": "stdout",
     "output_type": "stream",
     "text": [
      "5aac3e7af10c7729dc0ca6d32eb5c027c086c16cbb6298bba7e54bdee88d1fdb\n"
     ]
    },
    {
     "name": "stderr",
     "output_type": "stream",
     "text": [
      "cpu-0.6: Pulling from huggingface/text-embeddings-inference\n",
      "1f7ce2fa46ab: Pulling fs layer\n",
      "fa13aa30fca7: Pulling fs layer\n",
      "1a69b05b9ce5: Pulling fs layer\n",
      "1a41f0382383: Pulling fs layer\n",
      "55e34e6c563d: Pulling fs layer\n",
      "34d5bc9d302a: Pulling fs layer\n",
      "4668085708f1: Pulling fs layer\n",
      "54b7b6a88445: Pulling fs layer\n",
      "e26bddd52764: Pulling fs layer\n",
      "6aac8003b927: Pulling fs layer\n",
      "f0c18d3f2754: Pulling fs layer\n",
      "85a0f22f938d: Pulling fs layer\n",
      "429a11bfc213: Pulling fs layer\n",
      "55e34e6c563d: Waiting\n",
      "1a41f0382383: Waiting\n",
      "34d5bc9d302a: Waiting\n",
      "4668085708f1: Waiting\n",
      "54b7b6a88445: Waiting\n",
      "e26bddd52764: Waiting\n",
      "6aac8003b927: Waiting\n",
      "f0c18d3f2754: Waiting\n",
      "85a0f22f938d: Waiting\n",
      "429a11bfc213: Waiting\n",
      "1a69b05b9ce5: Download complete\n",
      "1a41f0382383: Verifying Checksum\n",
      "1a41f0382383: Download complete\n",
      "1f7ce2fa46ab: Verifying Checksum\n",
      "1f7ce2fa46ab: Download complete\n",
      "34d5bc9d302a: Verifying Checksum\n",
      "34d5bc9d302a: Download complete\n",
      "4668085708f1: Verifying Checksum\n",
      "4668085708f1: Download complete\n",
      "55e34e6c563d: Verifying Checksum\n",
      "55e34e6c563d: Download complete\n",
      "54b7b6a88445: Verifying Checksum\n",
      "54b7b6a88445: Download complete\n",
      "e26bddd52764: Verifying Checksum\n",
      "1f7ce2fa46ab: Pull complete\n",
      "fa13aa30fca7: Download complete\n",
      "85a0f22f938d: Verifying Checksum\n",
      "85a0f22f938d: Download complete\n",
      "6aac8003b927: Verifying Checksum\n",
      "6aac8003b927: Download complete\n",
      "f0c18d3f2754: Verifying Checksum\n",
      "f0c18d3f2754: Download complete\n",
      "429a11bfc213: Verifying Checksum\n",
      "429a11bfc213: Download complete\n",
      "fa13aa30fca7: Pull complete\n",
      "1a69b05b9ce5: Pull complete\n",
      "1a41f0382383: Pull complete\n",
      "55e34e6c563d: Pull complete\n",
      "34d5bc9d302a: Pull complete\n",
      "4668085708f1: Pull complete\n",
      "54b7b6a88445: Pull complete\n",
      "e26bddd52764: Pull complete\n",
      "6aac8003b927: Pull complete\n",
      "f0c18d3f2754: Pull complete\n",
      "85a0f22f938d: Pull complete\n",
      "429a11bfc213: Pull complete\n",
      "Digest: sha256:220f70681c3f84dbd1c264200b888d0bd370be47c76ad78dbbfda2a9ce299c6f\n",
      "Status: Downloaded newer image for ghcr.io/huggingface/text-embeddings-inference:cpu-0.6\n"
     ]
    }
   ],
   "source": [
    "!docker run --name tei_sc -p 8088:80 -v llm_data:/data --pull always -d ghcr.io/huggingface/text-embeddings-inference:cpu-0.6 --model-id intfloat/multilingual-e5-large --revision refs/pr/5 "
   ]
  },
  {
   "cell_type": "markdown",
   "metadata": {},
   "source": [
    "## Necessary Imports"
   ]
  },
  {
   "cell_type": "code",
   "execution_count": 2,
   "metadata": {},
   "outputs": [],
   "source": [
    "import warnings\n",
    "warnings.filterwarnings('ignore')\n",
    "from etl.extract import CurrentMovieExtractor\n",
    "from etl.transform import FilmTransformer\n",
    "from etl.load import FilmLoader\n",
    "import os\n",
    "from setup_vcb import SetupPGVector"
   ]
  },
  {
   "cell_type": "markdown",
   "metadata": {},
   "source": [
    "# Environment Variables Definition\n",
    "To set up the environment variables, use the following code:"
   ]
  },
  {
   "cell_type": "code",
   "execution_count": 3,
   "metadata": {},
   "outputs": [],
   "source": [
    "# PGVector environment variables\n",
    "os.environ['PG_HOSTNAME'] = 'localhost'\n",
    "os.environ['PG_USERNAME'] = 'postgres'\n",
    "os.environ['PG_HPORT'] = '5432'\n",
    "os.environ['PG_CPORT'] = '5432'\n",
    "os.environ['PG_DBNAME'] = 'postgres'\n",
    "os.environ['PG_DBPASSWORD'] = 'dw2'\n",
    "os.environ['PG_DATA'] = 'data'\n",
    "\n",
    "# TEI environment variables\n",
    "os.environ['TEI_HOSTNAME'] = 'localhost'\n",
    "os.environ['TEI_DATA'] = 'llm_data'\n",
    "os.environ['TEI_HPORT'] = '8088'\n",
    "os.environ['TEI_CPORT'] = '80'\n",
    "os.environ['TEI_MODEL'] = 'intfloat/multilingual-e5-large'\n",
    "os.environ['TEI_REVISION'] = 'refs/pr/5'"
   ]
  },
  {
   "cell_type": "code",
   "execution_count": 4,
   "metadata": {},
   "outputs": [
    {
     "name": "stdout",
     "output_type": "stream",
     "text": [
      "PGVector environment variables:\n",
      "PG_HOSTNAME: localhost\n",
      "PG_USERNAME: postgres\n",
      "PG_HPORT: 5432\n",
      "PG_CPORT: 5432\n",
      "PG_DBNAME: postgres\n",
      "PG_DBPASSWORD: dw2\n",
      "PG_DATA: data\n",
      "\n",
      "TEI environment variables:\n",
      "TEI_HOSTNAME: localhost\n",
      "TEI_DATA: llm_data\n",
      "TEI_HPORT: 8088\n",
      "TEI_CPORT: 80\n",
      "TEI_MODEL: intfloat/multilingual-e5-large\n",
      "TEI_REVISION: refs/pr/5\n"
     ]
    }
   ],
   "source": [
    "# Check PGVector environment variables\n",
    "pg_hostname = os.environ.get('PG_HOSTNAME')\n",
    "pg_username = os.environ.get('PG_USERNAME')\n",
    "pg_hport = os.environ.get('PG_HPORT')\n",
    "pg_cport = os.environ.get('PG_CPORT')\n",
    "pg_dbname = os.environ.get('PG_DBNAME')\n",
    "pg_dbpassword = os.environ.get('PG_DBPASSWORD')\n",
    "pg_data = os.environ.get('PG_DATA')\n",
    "\n",
    "print(f\"PGVector environment variables:\")\n",
    "print(f\"PG_HOSTNAME: {pg_hostname}\")\n",
    "print(f\"PG_USERNAME: {pg_username}\")\n",
    "print(f\"PG_HPORT: {pg_hport}\")\n",
    "print(f\"PG_CPORT: {pg_cport}\")\n",
    "print(f\"PG_DBNAME: {pg_dbname}\")\n",
    "print(f\"PG_DBPASSWORD: {pg_dbpassword}\")\n",
    "print(f\"PG_DATA: {pg_data}\")\n",
    "\n",
    "# Check TEI environment variables\n",
    "tei_hostname = os.environ.get('TEI_HOSTNAME')\n",
    "tei_data = os.environ.get('TEI_DATA')\n",
    "tei_hport = os.environ.get('TEI_HPORT')\n",
    "tei_cport = os.environ.get('TEI_CPORT')\n",
    "tei_model = os.environ.get('TEI_MODEL')\n",
    "tei_revision = os.environ.get('TEI_REVISION')\n",
    "\n",
    "print(f\"\\nTEI environment variables:\")\n",
    "print(f\"TEI_HOSTNAME: {tei_hostname}\")\n",
    "print(f\"TEI_DATA: {tei_data}\")\n",
    "print(f\"TEI_HPORT: {tei_hport}\")\n",
    "print(f\"TEI_CPORT: {tei_cport}\")\n",
    "print(f\"TEI_MODEL: {tei_model}\")\n",
    "print(f\"TEI_REVISION: {tei_revision}\")\n"
   ]
  },
  {
   "cell_type": "markdown",
   "metadata": {},
   "source": [
    "## Extraction of the films of the week with `CurrentMovieExtractor`\n",
    "\n",
    "1. In this step, we will use the `CurrentMovieExtractor` class with the `extract_all_film_links` method to extract the films of the week\n"
   ]
  },
  {
   "cell_type": "code",
   "execution_count": 8,
   "metadata": {},
   "outputs": [
    {
     "name": "stdout",
     "output_type": "stream",
     "text": [
      "Extracting all films links...\n"
     ]
    },
    {
     "name": "stdout",
     "output_type": "stream",
     "text": [
      "Done with all films links\n"
     ]
    }
   ],
   "source": [
    "extractor = CurrentMovieExtractor()\n",
    "extractor.extract_all_film_links()"
   ]
  },
  {
   "cell_type": "code",
   "execution_count": 9,
   "metadata": {},
   "outputs": [
    {
     "name": "stdout",
     "output_type": "stream",
     "text": [
      "27 film links extracted for this week\n"
     ]
    }
   ],
   "source": [
    "print(f\"{len(extractor.urls_films)} film links extracted for this week\")"
   ]
  },
  {
   "cell_type": "markdown",
   "metadata": {},
   "source": [
    "2. Next, we will retrieve the details of the films using the `extract_all_film_data` method.\n"
   ]
  },
  {
   "cell_type": "code",
   "execution_count": 10,
   "metadata": {},
   "outputs": [
    {
     "name": "stdout",
     "output_type": "stream",
     "text": [
      "Extracting all films informations...\n"
     ]
    },
    {
     "name": "stderr",
     "output_type": "stream",
     "text": [
      "100%|██████████| 27/27 [39:15<00:00, 87.23s/it]\n"
     ]
    },
    {
     "name": "stdout",
     "output_type": "stream",
     "text": [
      "Done with all films, extracting reviews...\n"
     ]
    },
    {
     "name": "stderr",
     "output_type": "stream",
     "text": [
      "100%|██████████| 27/27 [05:05<00:00, 11.30s/it]"
     ]
    },
    {
     "name": "stdout",
     "output_type": "stream",
     "text": [
      "Done with all reviews\n"
     ]
    },
    {
     "name": "stderr",
     "output_type": "stream",
     "text": [
      "\n"
     ]
    }
   ],
   "source": [
    "extractor.extract_all_film_data()"
   ]
  },
  {
   "cell_type": "markdown",
   "metadata": {},
   "source": [
    "Normally, the longest step is behind us, it should take about 15 minutes"
   ]
  },
  {
   "cell_type": "markdown",
   "metadata": {},
   "source": [
    "## Data Transformation with the FilmTransformer Class\n",
    "\n",
    "To transform the extracted film data, we will use the `FilmTransformer` class. This class provides methods to clean and preprocess the data before loading it into the database. So, the transformation of numerical and categorical data and the embedding with TEI of the reviews.\"\n",
    "\n",
    "Here's an example of how to use the `FilmTransformer` class:"
   ]
  },
  {
   "cell_type": "code",
   "execution_count": 20,
   "metadata": {},
   "outputs": [
    {
     "name": "stdout",
     "output_type": "stream",
     "text": [
      "Computing embeddings...\n"
     ]
    },
    {
     "name": "stderr",
     "output_type": "stream",
     "text": [
      "100%|██████████| 192/192 [07:50<00:00,  2.45s/it]"
     ]
    },
    {
     "name": "stdout",
     "output_type": "stream",
     "text": [
      "Done with embeddings\n"
     ]
    },
    {
     "name": "stderr",
     "output_type": "stream",
     "text": [
      "\n"
     ]
    }
   ],
   "source": [
    "transformer = FilmTransformer(extractor)"
   ]
  },
  {
   "cell_type": "markdown",
   "metadata": {},
   "source": [
    "We can now visualize the data in the form of a dataframe, let's display for example the reviews:"
   ]
  },
  {
   "cell_type": "code",
   "execution_count": 21,
   "metadata": {},
   "outputs": [
    {
     "data": {
      "text/html": [
       "<div>\n",
       "<style scoped>\n",
       "    .dataframe tbody tr th:only-of-type {\n",
       "        vertical-align: middle;\n",
       "    }\n",
       "\n",
       "    .dataframe tbody tr th {\n",
       "        vertical-align: top;\n",
       "    }\n",
       "\n",
       "    .dataframe thead th {\n",
       "        text-align: right;\n",
       "    }\n",
       "</style>\n",
       "<table border=\"1\" class=\"dataframe\">\n",
       "  <thead>\n",
       "    <tr style=\"text-align: right;\">\n",
       "      <th></th>\n",
       "      <th>film</th>\n",
       "      <th>is_negative</th>\n",
       "      <th>title</th>\n",
       "      <th>likes</th>\n",
       "      <th>comments</th>\n",
       "      <th>content</th>\n",
       "      <th>url</th>\n",
       "      <th>embedding</th>\n",
       "    </tr>\n",
       "  </thead>\n",
       "  <tbody>\n",
       "    <tr>\n",
       "      <th>0</th>\n",
       "      <td>Shin Godzilla</td>\n",
       "      <td>False</td>\n",
       "      <td>Le colosse s'érode</td>\n",
       "      <td>100</td>\n",
       "      <td>49</td>\n",
       "      <td>Regarder la série des Godzilla, c’est admirer ...</td>\n",
       "      <td>https://www.senscritique.com/film/shin_godzill...</td>\n",
       "      <td>[-0.01608497, -0.006072742, 0.0033162965, -0.0...</td>\n",
       "    </tr>\n",
       "    <tr>\n",
       "      <th>1</th>\n",
       "      <td>Shin Godzilla</td>\n",
       "      <td>False</td>\n",
       "      <td>The Legend of Godzilla - A Link to the Past</td>\n",
       "      <td>63</td>\n",
       "      <td>37</td>\n",
       "      <td>[AVANT-PROPOS/AVERTISSEMENT : Voir ce film le ...</td>\n",
       "      <td>https://www.senscritique.com/film/shin_godzill...</td>\n",
       "      <td>[-0.004714112, -0.019787442, -0.02954265, -0.0...</td>\n",
       "    </tr>\n",
       "    <tr>\n",
       "      <th>2</th>\n",
       "      <td>Shin Godzilla</td>\n",
       "      <td>False</td>\n",
       "      <td>Godzilla contre les politiciens</td>\n",
       "      <td>25</td>\n",
       "      <td>8</td>\n",
       "      <td>Le dernier Godzilla japonais produit par la To...</td>\n",
       "      <td>https://www.senscritique.com/film/shin_godzill...</td>\n",
       "      <td>[0.0077194446, -0.009460152, -0.0062741246, -0...</td>\n",
       "    </tr>\n",
       "    <tr>\n",
       "      <th>3</th>\n",
       "      <td>Shin Godzilla</td>\n",
       "      <td>False</td>\n",
       "      <td>Premier impact</td>\n",
       "      <td>19</td>\n",
       "      <td>2</td>\n",
       "      <td>Ce qui frappe dès le début c'est la marque de ...</td>\n",
       "      <td>https://www.senscritique.com/film/shin_godzill...</td>\n",
       "      <td>[0.010712562, -0.044431668, -0.006084309, -0.0...</td>\n",
       "    </tr>\n",
       "    <tr>\n",
       "      <th>4</th>\n",
       "      <td>Shin Godzilla</td>\n",
       "      <td>False</td>\n",
       "      <td>Gojira's Rising</td>\n",
       "      <td>15</td>\n",
       "      <td>6</td>\n",
       "      <td>Après la version correcte de Gareth Edwards, v...</td>\n",
       "      <td>https://www.senscritique.com/film/shin_godzill...</td>\n",
       "      <td>[0.024141837, -0.03297161, -0.003320909, -0.06...</td>\n",
       "    </tr>\n",
       "    <tr>\n",
       "      <th>...</th>\n",
       "      <td>...</td>\n",
       "      <td>...</td>\n",
       "      <td>...</td>\n",
       "      <td>...</td>\n",
       "      <td>...</td>\n",
       "      <td>...</td>\n",
       "      <td>...</td>\n",
       "      <td>...</td>\n",
       "    </tr>\n",
       "    <tr>\n",
       "      <th>187</th>\n",
       "      <td>Role Play</td>\n",
       "      <td>True</td>\n",
       "      <td>Role Play par Asoliloque</td>\n",
       "      <td>0</td>\n",
       "      <td>0</td>\n",
       "      <td>En essayant de performer sur tous les registre...</td>\n",
       "      <td>https://www.senscritique.com/film/role_play/cr...</td>\n",
       "      <td>[0.003610156, 0.0004173794, -0.027124945, -0.0...</td>\n",
       "    </tr>\n",
       "    <tr>\n",
       "      <th>188</th>\n",
       "      <td>Captain Miller</td>\n",
       "      <td>False</td>\n",
       "      <td>Captain Miller par Mathieu Ash</td>\n",
       "      <td>2</td>\n",
       "      <td>0</td>\n",
       "      <td>Un jeune homme en colère, des colons anglais b...</td>\n",
       "      <td>https://www.senscritique.com/film/captain_mill...</td>\n",
       "      <td>[0.025426337, -0.017913302, -0.020367501, -0.0...</td>\n",
       "    </tr>\n",
       "    <tr>\n",
       "      <th>189</th>\n",
       "      <td>Captain Miller</td>\n",
       "      <td>True</td>\n",
       "      <td>Captain Miller par Mathieu Ash</td>\n",
       "      <td>2</td>\n",
       "      <td>0</td>\n",
       "      <td>Un jeune homme en colère, des colons anglais b...</td>\n",
       "      <td>https://www.senscritique.com/film/captain_mill...</td>\n",
       "      <td>[0.025426337, -0.017913302, -0.020367501, -0.0...</td>\n",
       "    </tr>\n",
       "    <tr>\n",
       "      <th>190</th>\n",
       "      <td>La Dernière Danse</td>\n",
       "      <td>False</td>\n",
       "      <td>un thriller psychologique intense</td>\n",
       "      <td>0</td>\n",
       "      <td>0</td>\n",
       "      <td>\"La Dernière danse de Sabry Jarod\" est un film...</td>\n",
       "      <td>https://www.senscritique.com/film/la_derniere_...</td>\n",
       "      <td>[0.026355425, 0.0076752915, -0.027532866, -0.0...</td>\n",
       "    </tr>\n",
       "    <tr>\n",
       "      <th>191</th>\n",
       "      <td>La Dernière Danse</td>\n",
       "      <td>True</td>\n",
       "      <td>un thriller psychologique intense</td>\n",
       "      <td>0</td>\n",
       "      <td>0</td>\n",
       "      <td>\"La Dernière danse de Sabry Jarod\" est un film...</td>\n",
       "      <td>https://www.senscritique.com/film/la_derniere_...</td>\n",
       "      <td>[0.026355425, 0.0076752915, -0.027532866, -0.0...</td>\n",
       "    </tr>\n",
       "  </tbody>\n",
       "</table>\n",
       "<p>192 rows × 8 columns</p>\n",
       "</div>"
      ],
      "text/plain": [
       "                  film is_negative  \\\n",
       "0        Shin Godzilla       False   \n",
       "1        Shin Godzilla       False   \n",
       "2        Shin Godzilla       False   \n",
       "3        Shin Godzilla       False   \n",
       "4        Shin Godzilla       False   \n",
       "..                 ...         ...   \n",
       "187          Role Play        True   \n",
       "188     Captain Miller       False   \n",
       "189     Captain Miller        True   \n",
       "190  La Dernière Danse       False   \n",
       "191  La Dernière Danse        True   \n",
       "\n",
       "                                           title  likes  comments  \\\n",
       "0                             Le colosse s'érode    100        49   \n",
       "1    The Legend of Godzilla - A Link to the Past     63        37   \n",
       "2                Godzilla contre les politiciens     25         8   \n",
       "3                                 Premier impact     19         2   \n",
       "4                                Gojira's Rising     15         6   \n",
       "..                                           ...    ...       ...   \n",
       "187                     Role Play par Asoliloque      0         0   \n",
       "188               Captain Miller par Mathieu Ash      2         0   \n",
       "189               Captain Miller par Mathieu Ash      2         0   \n",
       "190            un thriller psychologique intense      0         0   \n",
       "191            un thriller psychologique intense      0         0   \n",
       "\n",
       "                                               content  \\\n",
       "0    Regarder la série des Godzilla, c’est admirer ...   \n",
       "1    [AVANT-PROPOS/AVERTISSEMENT : Voir ce film le ...   \n",
       "2    Le dernier Godzilla japonais produit par la To...   \n",
       "3    Ce qui frappe dès le début c'est la marque de ...   \n",
       "4    Après la version correcte de Gareth Edwards, v...   \n",
       "..                                                 ...   \n",
       "187  En essayant de performer sur tous les registre...   \n",
       "188  Un jeune homme en colère, des colons anglais b...   \n",
       "189  Un jeune homme en colère, des colons anglais b...   \n",
       "190  \"La Dernière danse de Sabry Jarod\" est un film...   \n",
       "191  \"La Dernière danse de Sabry Jarod\" est un film...   \n",
       "\n",
       "                                                   url  \\\n",
       "0    https://www.senscritique.com/film/shin_godzill...   \n",
       "1    https://www.senscritique.com/film/shin_godzill...   \n",
       "2    https://www.senscritique.com/film/shin_godzill...   \n",
       "3    https://www.senscritique.com/film/shin_godzill...   \n",
       "4    https://www.senscritique.com/film/shin_godzill...   \n",
       "..                                                 ...   \n",
       "187  https://www.senscritique.com/film/role_play/cr...   \n",
       "188  https://www.senscritique.com/film/captain_mill...   \n",
       "189  https://www.senscritique.com/film/captain_mill...   \n",
       "190  https://www.senscritique.com/film/la_derniere_...   \n",
       "191  https://www.senscritique.com/film/la_derniere_...   \n",
       "\n",
       "                                             embedding  \n",
       "0    [-0.01608497, -0.006072742, 0.0033162965, -0.0...  \n",
       "1    [-0.004714112, -0.019787442, -0.02954265, -0.0...  \n",
       "2    [0.0077194446, -0.009460152, -0.0062741246, -0...  \n",
       "3    [0.010712562, -0.044431668, -0.006084309, -0.0...  \n",
       "4    [0.024141837, -0.03297161, -0.003320909, -0.06...  \n",
       "..                                                 ...  \n",
       "187  [0.003610156, 0.0004173794, -0.027124945, -0.0...  \n",
       "188  [0.025426337, -0.017913302, -0.020367501, -0.0...  \n",
       "189  [0.025426337, -0.017913302, -0.020367501, -0.0...  \n",
       "190  [0.026355425, 0.0076752915, -0.027532866, -0.0...  \n",
       "191  [0.026355425, 0.0076752915, -0.027532866, -0.0...  \n",
       "\n",
       "[192 rows x 8 columns]"
      ]
     },
     "execution_count": 21,
     "metadata": {},
     "output_type": "execute_result"
    }
   ],
   "source": [
    "transformer.df_reviews"
   ]
  },
  {
   "cell_type": "markdown",
   "metadata": {},
   "source": [
    "We see several pieces of information such as likes, content, and their embedding done by the LLM"
   ]
  },
  {
   "cell_type": "markdown",
   "metadata": {},
   "source": [
    "# `SetupPGVector` class to create the PGVector database schema. \n",
    "\n",
    "This class provides a method to set up the necessary tables and indexes for the ETL process.\n",
    "\n",
    "Here's an example of how to use the `SetupPGVector` class:"
   ]
  },
  {
   "cell_type": "code",
   "execution_count": 22,
   "metadata": {},
   "outputs": [],
   "source": [
    "# If the database schema does not exist, create it\n",
    "\n",
    "setup = SetupPGVector(dbname=os.getenv(\"PG_DBNAME\"), user=os.getenv(\"PG_USER\"), password=os.getenv(\"PG_DBPASSWORD\"), host=os.getenv(\"PG_HOSTNAME\"), port=os.getenv(\"PG_HPORT\"))\n",
    "setup.setup_vdb()"
   ]
  },
  {
   "cell_type": "markdown",
   "metadata": {},
   "source": [
    "# Load data into the Vector Data Base with the `FilmLoader` class\n",
    "\n",
    "This class allows connecting to the VectorDataBase through the psycopg2 driver and integrating documents using the loading method"
   ]
  },
  {
   "cell_type": "code",
   "execution_count": 23,
   "metadata": {},
   "outputs": [
    {
     "name": "stdout",
     "output_type": "stream",
     "text": [
      "Connecting to database: dbname=postgres user=postgres password=dw2 host=localhost port=5432\n",
      "Connected to database\n",
      "Loading data...\n"
     ]
    },
    {
     "name": "stdout",
     "output_type": "stream",
     "text": [
      "Done with loading\n"
     ]
    }
   ],
   "source": [
    "loader = FilmLoader(transformer, dbname=os.getenv(\"PG_DBNAME\"), user=os.getenv(\"PG_USER\"), password=os.getenv(\"PG_DBPASSWORD\"), host=os.getenv(\"PG_HOSTNAME\"), port=os.getenv(\"PG_HPORT\"))\n",
    "loader.loading()"
   ]
  },
  {
   "cell_type": "markdown",
   "metadata": {},
   "source": [
    "# ETL Done\n",
    "\n",
    "At this stage, the ETL is performed manually in a notebook for those who particularly appreciate it. To consult the data, simply go to the vector database as follows:\n",
    "\n",
    "```bash \n",
    "docker exec -it db_sc psql -U postgres\n",
    "```\n",
    "And then in psql client make a query \n",
    "```bash\n",
    "SELECT embedding FROM reviews;\n",
    "```\n",
    "And you will be able to see something like that:\n",
    "<p align=\"left\">\n",
    "  <img src=\"res/emb.png\" >\n",
    "</p>"
   ]
  }
 ],
 "metadata": {
  "kernelspec": {
   "display_name": "movies",
   "language": "python",
   "name": "python3"
  },
  "language_info": {
   "codemirror_mode": {
    "name": "ipython",
    "version": 3
   },
   "file_extension": ".py",
   "mimetype": "text/x-python",
   "name": "python",
   "nbconvert_exporter": "python",
   "pygments_lexer": "ipython3",
   "version": "3.11.7"
  }
 },
 "nbformat": 4,
 "nbformat_minor": 2
}
