{
 "cells": [
  {
   "cell_type": "code",
   "execution_count": 10,
   "metadata": {},
   "outputs": [
    {
     "name": "stdout",
     "output_type": "stream",
     "text": [
      "aaa339910b179217f5d5f88b455b9bb0b22831f136d78de0c3f2930ea01711ca\n"
     ]
    }
   ],
   "source": [
    "!docker run --name db_sc -p 5432:5432 -e POSTGRES_PASSWORD=dw2 -v data:/var/lib/postgresql/data  -d ankane/pgvector "
   ]
  },
  {
   "cell_type": "code",
   "execution_count": 8,
   "metadata": {},
   "outputs": [
    {
     "name": "stdout",
     "output_type": "stream",
     "text": [
      "cpu-0.6: Pulling from huggingface/text-embeddings-inference\n",
      "Digest: sha256:220f70681c3f84dbd1c264200b888d0bd370be47c76ad78dbbfda2a9ce299c6f\n",
      "Status: Image is up to date for ghcr.io/huggingface/text-embeddings-inference:cpu-0.6\n",
      "aec77049bf9465dadf74550c89040fbdd859989ffd30188b88666369fdf17bac\n"
     ]
    }
   ],
   "source": [
    "!docker run --name tei_sc -p 8088:80 -v llm_data:/data --pull always -d ghcr.io/huggingface/text-embeddings-inference:cpu-0.6 --model-id intfloat/multilingual-e5-large --revision refs/pr/5 "
   ]
  },
  {
   "cell_type": "code",
   "execution_count": 16,
   "metadata": {},
   "outputs": [],
   "source": [
    "from etl.extract import CurrentMovieExtractor\n",
    "from etl.transform import FilmTransformer\n",
    "from etl.load import FilmLoader\n",
    "import os\n",
    "import pandas as pd"
   ]
  },
  {
   "cell_type": "code",
   "execution_count": 17,
   "metadata": {},
   "outputs": [],
   "source": [
    "# PGVector environment variables\n",
    "os.environ['PG_HOSTNAME'] = '0.0.0.0'\n",
    "os.environ['PG_USERNAME'] = 'postgres'\n",
    "os.environ['PG_HPORT'] = '5432'\n",
    "os.environ['PG_CPORT'] = '5432'\n",
    "os.environ['PG_DBNAME'] = 'postgres'\n",
    "os.environ['PG_DBPASSWORD'] = 'dw2'\n",
    "os.environ['PG_DATA'] = 'data'\n",
    "\n",
    "# TEI environment variables\n",
    "os.environ['TEI_HOSTNAME'] = 'tei'\n",
    "os.environ['TEI_DATA'] = 'llm_data'\n",
    "os.environ['TEI_HPORT'] = '8088'\n",
    "os.environ['TEI_CPORT'] = '80'\n",
    "os.environ['TEI_MODEL'] = 'intfloat/multilingual-e5-large'\n",
    "os.environ['TEI_REVISION'] = 'refs/pr/5'\n"
   ]
  },
  {
   "cell_type": "code",
   "execution_count": null,
   "metadata": {},
   "outputs": [],
   "source": []
  },
  {
   "cell_type": "code",
   "execution_count": null,
   "metadata": {},
   "outputs": [],
   "source": [
    "extractor = CurrentMovieExtractor()"
   ]
  }
 ],
 "metadata": {
  "kernelspec": {
   "display_name": "movies",
   "language": "python",
   "name": "python3"
  },
  "language_info": {
   "codemirror_mode": {
    "name": "ipython",
    "version": 3
   },
   "file_extension": ".py",
   "mimetype": "text/x-python",
   "name": "python",
   "nbconvert_exporter": "python",
   "pygments_lexer": "ipython3",
   "version": "3.11.5"
  }
 },
 "nbformat": 4,
 "nbformat_minor": 2
}
