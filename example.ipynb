{
 "cells": [
  {
   "cell_type": "markdown",
   "metadata": {},
   "source": [
    "# Example of Extraction Transformation & Loading manually in PGVector using all classes\n",
    "\n",
    "In this notebook, we will see how to retrieve data on movies released this week by extracting them from [sens-critique](https://www.senscritique.com/). We will transform them and do the embedding of the reviews with the LLM [intfloat/multilingual-e5-large](https://huggingface.co/intfloat/multilingual-e5-large/tree/main) and [Text Embedding Inference](https://github.com/huggingface/text-embeddings-inference). Finally, we will integrate this data into [PGVector Database](https://github.com/pgvector/pgvector)"
   ]
  },
  {
   "cell_type": "markdown",
   "metadata": {},
   "source": [
    "The classes used in this notebook are those of the project where you are located, available [here](https://github.com/ilanaliouchouche/senscritique-weeklyreal-database/tree/main/etl)"
   ]
  },
  {
   "cell_type": "markdown",
   "metadata": {},
   "source": [
    "<p align=\"left\">\n",
    "  <img src=\"res/sc.jpg\" width=\"200\">\n",
    "</p>"
   ]
  },
  {
   "cell_type": "markdown",
   "metadata": {},
   "source": [
    "## Setting up PGVector and TEI Containers\n",
    "\n",
    "To set up the PGVector and TEI containers, follow the steps below:"
   ]
  },
  {
   "cell_type": "markdown",
   "metadata": {},
   "source": [
    "<img src=\"res/hf.png\" width=\"175\">",
    "<img src=\"res/pg.png\" width=\"175\">"
   ]
  },
  {
   "cell_type": "markdown",
   "metadata": {},
   "source": [
    "1. Run the following command to start the PGVector container:"
   ]
  },
  {
   "cell_type": "code",
   "execution_count": 13,
   "metadata": {},
   "outputs": [
    {
     "name": "stdout",
     "output_type": "stream",
     "text": [
      "0ac389bf5eeba3cce51ede1313b6fd1c1f38720de72bd5d72ac2cd52501d1e0b\n"
     ]
    }
   ],
   "source": [
    "!docker run --name db_sc -p 5432:5432 -e POSTGRES_PASSWORD=dw2 -v data:/var/lib/postgresql/data  -d ankane/pgvector "
   ]
  },
  {
   "cell_type": "markdown",
   "metadata": {},
   "source": [
    "2. Run the following command to start the TEI container:"
   ]
  },
  {
   "cell_type": "code",
   "execution_count": 14,
   "metadata": {},
   "outputs": [
    {
     "name": "stdout",
     "output_type": "stream",
     "text": [
      "cpu-0.6: Pulling from huggingface/text-embeddings-inference\n",
      "Digest: sha256:220f70681c3f84dbd1c264200b888d0bd370be47c76ad78dbbfda2a9ce299c6f\n",
      "Status: Image is up to date for ghcr.io/huggingface/text-embeddings-inference:cpu-0.6\n",
      "e5185503f10a34cea06ff8f7ea2b7941b78e3b8677b73cf9710e93c7cc03dd40\n"
     ]
    }
   ],
   "source": [
    "!docker run --name tei_sc -p 8088:80 -v llm_data:/data --pull always -d ghcr.io/huggingface/text-embeddings-inference:cpu-0.6 --model-id intfloat/multilingual-e5-large --revision refs/pr/5 "
   ]
  },
  {
   "cell_type": "markdown",
   "metadata": {},
   "source": [
    "## Necessary Imports"
   ]
  },
  {
   "cell_type": "code",
   "execution_count": 19,
   "metadata": {},
   "outputs": [],
   "source": [
    "from etl.extract import CurrentMovieExtractor\n",
    "from etl.transform import FilmTransformer\n",
    "from etl.load import FilmLoader\n",
    "import os\n",
    "import pandas as pd\n",
    "from setup_vcb import SetupPGVector\n",
    "import warnings\n",
    "warnings.filterwarnings('ignore')"
   ]
  },
  {
   "cell_type": "markdown",
   "metadata": {},
   "source": [
    "# Environment Variables Definition\n",
    "To set up the environment variables, use the following code:"
   ]
  },
  {
   "cell_type": "code",
   "execution_count": 8,
   "metadata": {},
   "outputs": [],
   "source": [
    "# PGVector environment variables\n",
    "os.environ['PG_HOSTNAME'] = '0.0.0.0'\n",
    "os.environ['PG_USERNAME'] = 'postgres'\n",
    "os.environ['PG_HPORT'] = '5432'\n",
    "os.environ['PG_CPORT'] = '5432'\n",
    "os.environ['PG_DBNAME'] = 'postgres'\n",
    "os.environ['PG_DBPASSWORD'] = 'dw2'\n",
    "os.environ['PG_DATA'] = 'data'\n",
    "\n",
    "# TEI environment variables\n",
    "os.environ['TEI_HOSTNAME'] = '0.0.0.0'\n",
    "os.environ['TEI_DATA'] = 'llm_data'\n",
    "os.environ['TEI_HPORT'] = '8088'\n",
    "os.environ['TEI_CPORT'] = '80'\n",
    "os.environ['TEI_MODEL'] = 'intfloat/multilingual-e5-large'\n",
    "os.environ['TEI_REVISION'] = 'refs/pr/5'\n"
   ]
  },
  {
   "cell_type": "code",
   "execution_count": 9,
   "metadata": {},
   "outputs": [
    {
     "name": "stdout",
     "output_type": "stream",
     "text": [
      "PGVector environment variables:\n",
      "PG_HOSTNAME: 0.0.0.0\n",
      "PG_USERNAME: postgres\n",
      "PG_HPORT: 5432\n",
      "PG_CPORT: 5432\n",
      "PG_DBNAME: postgres\n",
      "PG_DBPASSWORD: dw2\n",
      "PG_DATA: data\n",
      "\n",
      "TEI environment variables:\n",
      "TEI_HOSTNAME: 0.0.0.0\n",
      "TEI_DATA: llm_data\n",
      "TEI_HPORT: 8088\n",
      "TEI_CPORT: 80\n",
      "TEI_MODEL: intfloat/multilingual-e5-large\n",
      "TEI_REVISION: refs/pr/5\n"
     ]
    }
   ],
   "source": [
    "# Check PGVector environment variables\n",
    "pg_hostname = os.environ.get('PG_HOSTNAME')\n",
    "pg_username = os.environ.get('PG_USERNAME')\n",
    "pg_hport = os.environ.get('PG_HPORT')\n",
    "pg_cport = os.environ.get('PG_CPORT')\n",
    "pg_dbname = os.environ.get('PG_DBNAME')\n",
    "pg_dbpassword = os.environ.get('PG_DBPASSWORD')\n",
    "pg_data = os.environ.get('PG_DATA')\n",
    "\n",
    "print(f\"PGVector environment variables:\")\n",
    "print(f\"PG_HOSTNAME: {pg_hostname}\")\n",
    "print(f\"PG_USERNAME: {pg_username}\")\n",
    "print(f\"PG_HPORT: {pg_hport}\")\n",
    "print(f\"PG_CPORT: {pg_cport}\")\n",
    "print(f\"PG_DBNAME: {pg_dbname}\")\n",
    "print(f\"PG_DBPASSWORD: {pg_dbpassword}\")\n",
    "print(f\"PG_DATA: {pg_data}\")\n",
    "\n",
    "# Check TEI environment variables\n",
    "tei_hostname = os.environ.get('TEI_HOSTNAME')\n",
    "tei_data = os.environ.get('TEI_DATA')\n",
    "tei_hport = os.environ.get('TEI_HPORT')\n",
    "tei_cport = os.environ.get('TEI_CPORT')\n",
    "tei_model = os.environ.get('TEI_MODEL')\n",
    "tei_revision = os.environ.get('TEI_REVISION')\n",
    "\n",
    "print(f\"\\nTEI environment variables:\")\n",
    "print(f\"TEI_HOSTNAME: {tei_hostname}\")\n",
    "print(f\"TEI_DATA: {tei_data}\")\n",
    "print(f\"TEI_HPORT: {tei_hport}\")\n",
    "print(f\"TEI_CPORT: {tei_cport}\")\n",
    "print(f\"TEI_MODEL: {tei_model}\")\n",
    "print(f\"TEI_REVISION: {tei_revision}\")\n"
   ]
  },
  {
   "cell_type": "markdown",
   "metadata": {},
   "source": [
    "## Extraction of the films of the week with `CurrentMovieExtractor`\n",
    "\n",
    "1. In this step, we will use the `CurrentMovieExtractor` class with the `extract_all_film_links` method to extract the films of the week\n"
   ]
  },
  {
   "cell_type": "code",
   "execution_count": 4,
   "metadata": {},
   "outputs": [
    {
     "name": "stdout",
     "output_type": "stream",
     "text": [
      "Extracting all films links...\n",
      "Done with all films links\n"
     ]
    }
   ],
   "source": [
    "extractor = CurrentMovieExtractor()\n",
    "extractor.extract_all_film_links()"
   ]
  },
  {
   "cell_type": "code",
   "execution_count": 5,
   "metadata": {},
   "outputs": [
    {
     "name": "stdout",
     "output_type": "stream",
     "text": [
      "22 film links extracted for this week\n"
     ]
    }
   ],
   "source": [
    "print(f\"{len(extractor.urls_films)} film links extracted for this week\")"
   ]
  },
  {
   "cell_type": "markdown",
   "metadata": {},
   "source": [
    "2. Next, we will retrieve the details of the films using the `extract_all_film_data` method.\n"
   ]
  },
  {
   "cell_type": "code",
   "execution_count": 6,
   "metadata": {},
   "outputs": [
    {
     "name": "stdout",
     "output_type": "stream",
     "text": [
      "Extracting all films informations...\n"
     ]
    },
    {
     "name": "stderr",
     "output_type": "stream",
     "text": [
      "100%|██████████| 22/22 [10:25<00:00, 28.43s/it]\n"
     ]
    },
    {
     "name": "stdout",
     "output_type": "stream",
     "text": [
      "{'Shin Godzilla': {'Titre original': 'Shin Gojira', 'Aussi connu sous le nom de': 'シン・ゴジラ, Shin Godzilla, Godzilla : Resurgence', 'Godzilla': 'Resurgence', 'Genres': 'Action, Science-fiction', 'Groupe': 'Godzilla', 'Année': '2016', \"Pays d'origine\": 'Japon', 'Durée': '2 h', 'Date de sortie (Japon)': '29 juillet 2016', 'Date de sortie (France)': '11 janvier 2024', 'Réalisateurs': 'Hideaki Anno, Shinji Higuchi', 'Scénaristes': 'Hideaki Anno, Sean Whitley', 'Producteurs': 'Yoshihiro Satô, Taichi Ueda, Akihiro Yamauchi, Minami Ichikawa, Kazutoshi Wadakura, Masaya Shibusawa, Kensei Mori', 'Distributeur': 'Filmo', 'Budget': '15 000 000 $', 'Bande originale': 'Shin Godzilla Music Collection', 'url': 'https://www.senscritique.com//film/shin_godzilla/14101439', 'rate': 7.1, 'image': 'https://media.senscritique.com/media/000021838165/300/shin_godzilla.png', 'reviews': {'Positives': ['https://www.senscritique.com/film/shin_godzilla/critique/65450023', 'https://www.senscritique.com/film/shin_godzilla/critique/100628883', 'https://www.senscritique.com/film/shin_godzilla/critique/187717364', 'https://www.senscritique.com/film/shin_godzilla/critique/114558400', 'https://www.senscritique.com/film/shin_godzilla/critique/115920323', 'https://www.senscritique.com/film/shin_godzilla/critique/107056927', 'https://www.senscritique.com/film/shin_godzilla/critique/145604991', 'https://www.senscritique.com/film/shin_godzilla/critique/105650758', 'https://www.senscritique.com/film/shin_godzilla/critique/119007794', 'https://www.senscritique.com/film/shin_godzilla/critique/271357761'], 'Negatives': ['https://www.senscritique.com/film/shin_godzilla/critique/65450023', 'https://www.senscritique.com/film/shin_godzilla/critique/100628883', 'https://www.senscritique.com/film/shin_godzilla/critique/187717364', 'https://www.senscritique.com/film/shin_godzilla/critique/114558400', 'https://www.senscritique.com/film/shin_godzilla/critique/115920323', 'https://www.senscritique.com/film/shin_godzilla/critique/107056927', 'https://www.senscritique.com/film/shin_godzilla/critique/145604991', 'https://www.senscritique.com/film/shin_godzilla/critique/105650758', 'https://www.senscritique.com/film/shin_godzilla/critique/119007794', 'https://www.senscritique.com/film/shin_godzilla/critique/271357761']}}, 'Si seulement je pouvais hiberner': {'Titre original': 'If Only I Could Hibernate', 'Aussi connu sous le nom de': 'Baavgai Bolohson, Баавгай Болохсон', 'Genre': 'Drame', 'Année': '2024', \"Pays d'origine\": 'Mongolie, France, Suisse, Qatar', 'Durée': '1 h 38 min', 'Date de sortie (France)': '10 janvier 2024', 'Réalisateur': 'Zoljargal Purevdash', 'Scénariste': 'Zoljargal Purevdash', 'Producteurs': 'Zoljargal Purevdash, Frédéric Corvez, Maéva Savinien, Batkhishig Sed-Ayushjav', 'Distributeur': 'Eurozoom', 'url': 'https://www.senscritique.com//film/si_seulement_je_pouvais_hiberner/55674622', 'rate': 6.8, 'image': 'https://media.senscritique.com/media/000021852782/300/si_seulement_je_pouvais_hiberner.jpg', 'reviews': {'Positives': ['https://www.senscritique.com/film/si_seulement_je_pouvais_hiberner/critique/297021154', 'https://www.senscritique.com/film/si_seulement_je_pouvais_hiberner/critique/296602271', 'https://www.senscritique.com/film/si_seulement_je_pouvais_hiberner/critique/298720192', 'https://www.senscritique.com/film/si_seulement_je_pouvais_hiberner/critique/298300872', 'https://www.senscritique.com/film/si_seulement_je_pouvais_hiberner/critique/290314878', 'https://www.senscritique.com/film/si_seulement_je_pouvais_hiberner/critique/287789131'], 'Negatives': ['https://www.senscritique.com/film/si_seulement_je_pouvais_hiberner/critique/297021154', 'https://www.senscritique.com/film/si_seulement_je_pouvais_hiberner/critique/296602271', 'https://www.senscritique.com/film/si_seulement_je_pouvais_hiberner/critique/298720192', 'https://www.senscritique.com/film/si_seulement_je_pouvais_hiberner/critique/298300872', 'https://www.senscritique.com/film/si_seulement_je_pouvais_hiberner/critique/290314878', 'https://www.senscritique.com/film/si_seulement_je_pouvais_hiberner/critique/287789131']}}, 'Making of': {'Genres': 'Comédie, Drame', 'Année': '2024', \"Pays d'origine\": 'France', 'Durée': '1 h 54 min', 'Date de sortie (France)': '10 janvier 2024', 'Réalisateur': 'Cédric Kahn', 'Scénaristes': 'Fanny Burdino, Samuel Doux, Cédric Kahn', 'Producteurs': 'Olivier Delbosc, Cédric Iland, Bastien Sirodot', 'Distributeur': 'Ad Vitam', 'url': 'https://www.senscritique.com//film/making_of/46450183', 'rate': 6.1, 'image': 'https://media.senscritique.com/media/000021826389/300/making_of.png', 'reviews': {'Positives': ['https://www.senscritique.com/film/making_of/critique/299640208', 'https://www.senscritique.com/film/making_of/critique/294537963', 'https://www.senscritique.com/film/making_of/critique/299914159', 'https://www.senscritique.com/film/making_of/critique/299904643', 'https://www.senscritique.com/film/making_of/critique/299895311', 'https://www.senscritique.com/film/making_of/critique/299886964', 'https://www.senscritique.com/film/making_of/critique/299792415'], 'Negatives': ['https://www.senscritique.com/film/making_of/critique/299640208', 'https://www.senscritique.com/film/making_of/critique/294537963', 'https://www.senscritique.com/film/making_of/critique/299914159', 'https://www.senscritique.com/film/making_of/critique/299904643', 'https://www.senscritique.com/film/making_of/critique/299895311', 'https://www.senscritique.com/film/making_of/critique/299886964', 'https://www.senscritique.com/film/making_of/critique/299792415']}}, 'Un silence': {'Aussi connu sous le nom de': 'A Silence', 'Genre': 'Drame', 'Année': '2024', \"Pays d'origine\": 'Belgique, Luxembourg, France', 'Durée': '1 h 41 min', 'Date de sortie (France)': '10 janvier 2024', 'Réalisateur': 'Joachim Lafosse', 'Scénaristes': 'Joachim Lafosse, Thomas Van Zuylen, Chloé Duponchelle, Paul Ismael, Sarah Chiche, Matthieu Reynaert, Valérie Graeven', 'Productrices': 'Eva Kuperman, Anton Iffland Stettner, Jani Thiltges, Régine Vial, Alexis Dantec, Antonio Lombardo', 'Distributeur': 'Les Films du Losange', 'url': 'https://www.senscritique.com//film/un_silence/54739114', 'rate': 5.9, 'image': 'https://media.senscritique.com/media/000021852823/300/un_silence.jpg', 'reviews': {'Positives': ['https://www.senscritique.com/film/un_silence/critique/295300760', 'https://www.senscritique.com/film/un_silence/critique/299535315', 'https://www.senscritique.com/film/un_silence/critique/299826258', 'https://www.senscritique.com/film/un_silence/critique/299755365', 'https://www.senscritique.com/film/un_silence/critique/299445498', 'https://www.senscritique.com/film/un_silence/critique/299913429', 'https://www.senscritique.com/film/un_silence/critique/299902015', 'https://www.senscritique.com/film/un_silence/critique/299853204', 'https://www.senscritique.com/film/un_silence/critique/299736505', 'https://www.senscritique.com/film/un_silence/critique/298720223'], 'Negatives': ['https://www.senscritique.com/film/un_silence/critique/295300760', 'https://www.senscritique.com/film/un_silence/critique/299535315', 'https://www.senscritique.com/film/un_silence/critique/299826258', 'https://www.senscritique.com/film/un_silence/critique/299755365', 'https://www.senscritique.com/film/un_silence/critique/299445498', 'https://www.senscritique.com/film/un_silence/critique/299913429', 'https://www.senscritique.com/film/un_silence/critique/299902015', 'https://www.senscritique.com/film/un_silence/critique/299853204', 'https://www.senscritique.com/film/un_silence/critique/299736505', 'https://www.senscritique.com/film/un_silence/critique/298720223']}}, 'Bonnard, Pierre et Marthe': {'Genres': 'Biopic, Drame, Romance', 'Année': '2024', \"Pays d'origine\": 'France', 'Durée': '2 h 03 min', 'Date de sortie (France)': '10 janvier 2024', 'Réalisateur': 'Martin Provost', 'Scénaristes': 'Martin Provost, Marc Abdelnour', 'Producteurs': 'François Kraus, Denis Pineau-Valencienne, Cloé Garbay, Bastien Sirodot', 'Distributeur': 'Memento Films Distribution', 'url': 'https://www.senscritique.com//film/bonnard_pierre_et_marthe/55674662', 'rate': 5.3, 'image': 'https://media.senscritique.com/media/000021561978/300/bonnard_pierre_et_marthe.jpg', 'reviews': {'Positives': ['https://www.senscritique.com/film/bonnard_pierre_et_marthe/critique/299891667', 'https://www.senscritique.com/film/bonnard_pierre_et_marthe/critique/289792103', 'https://www.senscritique.com/film/bonnard_pierre_et_marthe/critique/299907197', 'https://www.senscritique.com/film/bonnard_pierre_et_marthe/critique/299883746', 'https://www.senscritique.com/film/bonnard_pierre_et_marthe/critique/299846428', 'https://www.senscritique.com/film/bonnard_pierre_et_marthe/critique/299824461', 'https://www.senscritique.com/film/bonnard_pierre_et_marthe/critique/298490739', 'https://www.senscritique.com/film/bonnard_pierre_et_marthe/critique/290728193', 'https://www.senscritique.com/film/bonnard_pierre_et_marthe/critique/290058786', 'https://www.senscritique.com/film/bonnard_pierre_et_marthe/critique/290012526'], 'Negatives': ['https://www.senscritique.com/film/bonnard_pierre_et_marthe/critique/299891667', 'https://www.senscritique.com/film/bonnard_pierre_et_marthe/critique/289792103', 'https://www.senscritique.com/film/bonnard_pierre_et_marthe/critique/299907197', 'https://www.senscritique.com/film/bonnard_pierre_et_marthe/critique/299883746', 'https://www.senscritique.com/film/bonnard_pierre_et_marthe/critique/299846428', 'https://www.senscritique.com/film/bonnard_pierre_et_marthe/critique/299824461', 'https://www.senscritique.com/film/bonnard_pierre_et_marthe/critique/298490739', 'https://www.senscritique.com/film/bonnard_pierre_et_marthe/critique/290728193', 'https://www.senscritique.com/film/bonnard_pierre_et_marthe/critique/290058786', 'https://www.senscritique.com/film/bonnard_pierre_et_marthe/critique/290012526']}}, 'La Vie rêvée de Miss Fran': {'Titre original': 'Sometimes I Think About Dying', 'Aussi connu sous le nom de': 'Dans la bulle de Miss Fran', 'Genres': 'Comédie, Drame, Romance', 'Année': '2023', \"Pays d'origine\": 'États-Unis', 'Durée': '1 h 33 min', 'Date de sortie (France)': '10 janvier 2024', 'Réalisateur': 'Rachel Lambert', 'Scénaristes': 'Kevin Armento, Stefanie Abel Horowitz, Katy Wright-Mead', 'Producteurs': \"Alex Saks, Daisy Ridley, Dori Sperko (Dori Rath), Lauren Beveridge, Brett Beveridge, Mariela Villa, Steven Weisman, Kyle Eaton, Lisa D'Ambrosio, Lori Abrams, Tommy Kelly\", 'Distributeur': 'Condor Distribution', 'url': 'https://www.senscritique.com//film/la_vie_revee_de_miss_fran/53553154', 'rate': 6.1, 'image': 'https://media.senscritique.com/media/000021809244/300/la_vie_revee_de_miss_fran.png', 'reviews': {'Positives': ['https://www.senscritique.com/film/la_vie_revee_de_miss_fran/critique/299640243', 'https://www.senscritique.com/film/la_vie_revee_de_miss_fran/critique/297717585', 'https://www.senscritique.com/film/la_vie_revee_de_miss_fran/critique/299866536', 'https://www.senscritique.com/film/la_vie_revee_de_miss_fran/critique/299834534', 'https://www.senscritique.com/film/la_vie_revee_de_miss_fran/critique/299818330', 'https://www.senscritique.com/film/la_vie_revee_de_miss_fran/critique/285438626'], 'Negatives': ['https://www.senscritique.com/film/la_vie_revee_de_miss_fran/critique/299640243', 'https://www.senscritique.com/film/la_vie_revee_de_miss_fran/critique/297717585', 'https://www.senscritique.com/film/la_vie_revee_de_miss_fran/critique/299866536', 'https://www.senscritique.com/film/la_vie_revee_de_miss_fran/critique/299834534', 'https://www.senscritique.com/film/la_vie_revee_de_miss_fran/critique/299818330', 'https://www.senscritique.com/film/la_vie_revee_de_miss_fran/critique/285438626']}}, 'Scrapper': {'Aussi connu sous le nom de': 'Nan, Yet To Be', 'Genres': 'Comédie, Drame', 'Année': '2023', \"Pays d'origine\": 'Royaume-Uni', 'Durée': '1 h 24 min', 'Date de sortie (Royaume-Uni)': '25 août 2023', 'Date de sortie (France)': '10 janvier 2024', 'Réalisateur': 'Charlotte Regan', 'Scénariste': 'Charlotte Regan', 'Producteurs': 'Theo Barrowclough, Jennifer Monks, Eva Yates, Farhana Bhula, Michael Fassbender, Conor McCaughan, Daniel Emmerson, Jim Reeve', 'Distributeur': 'Star Invest Films France', 'url': 'https://www.senscritique.com//film/scrapper/53553179', 'rate': 6.5, 'image': 'https://media.senscritique.com/media/000021759559/300/scrapper.jpg', 'reviews': {'Positives': ['https://www.senscritique.com/film/scrapper/critique/299787191', 'https://www.senscritique.com/film/scrapper/critique/299807757', 'https://www.senscritique.com/film/scrapper/critique/295755112', 'https://www.senscritique.com/film/scrapper/critique/294333949', 'https://www.senscritique.com/film/scrapper/critique/298655938'], 'Negatives': ['https://www.senscritique.com/film/scrapper/critique/299787191', 'https://www.senscritique.com/film/scrapper/critique/299807757', 'https://www.senscritique.com/film/scrapper/critique/295755112', 'https://www.senscritique.com/film/scrapper/critique/294333949', 'https://www.senscritique.com/film/scrapper/critique/298655938']}}, 'Mean Girls - Lolita malgré moi': {'Titre original': 'Mean Girls', 'Aussi connu sous le nom de': 'Mean Girls: The Musical', 'Genres': 'Comédie, Comédie musicale', 'Groupe': 'Lolita malgré moi', 'Année': '2024', \"Pays d'origine\": 'États-Unis', 'Durée': '1 h 50 min', 'Date de sortie (États-Unis)': '10 janvier 2024', 'Date de sortie (France)': '10 janvier 2024', 'Réalisateurs': 'Samantha Jayne, Arturo Perez Jr.', 'Scénariste': 'Tina Fey', 'Producteurs': 'Erin David, Tina Fey, Micah Frank, Eric Gurian, Caroline Maroney, Lorne Michaels', 'Distributeur': 'Universal Pictures International France', 'url': 'https://www.senscritique.com//film/mean_girls_lolita_malgre_moi/53642483', 'rate': 6.0, 'image': 'https://media.senscritique.com/media/000021794715/300/mean_girls_lolita_malgre_moi.png', 'reviews': {'Positives': ['https://www.senscritique.com/film/mean_girls_lolita_malgre_moi/critique/299782553', 'https://www.senscritique.com/film/mean_girls_lolita_malgre_moi/critique/299913121', 'https://www.senscritique.com/film/mean_girls_lolita_malgre_moi/critique/299904730', 'https://www.senscritique.com/film/mean_girls_lolita_malgre_moi/critique/299848475', 'https://www.senscritique.com/film/mean_girls_lolita_malgre_moi/critique/297559581'], 'Negatives': ['https://www.senscritique.com/film/mean_girls_lolita_malgre_moi/critique/299782553', 'https://www.senscritique.com/film/mean_girls_lolita_malgre_moi/critique/299913121', 'https://www.senscritique.com/film/mean_girls_lolita_malgre_moi/critique/299904730', 'https://www.senscritique.com/film/mean_girls_lolita_malgre_moi/critique/299848475', 'https://www.senscritique.com/film/mean_girls_lolita_malgre_moi/critique/297559581']}}, 'Maboroshi': {'Titre original': 'Alice to Teresu no Maboroshi Kōjō', 'Aussi connu sous le nom de': \"Alice and Therese's Illusion Factory, Maboroshi, L’Usine d’illusion d’Alice et Thérèse\", 'Genres': 'Drame, Fantastique', 'Année': '2023', \"Pays d'origine\": 'Japon', 'Durée': '1 h 51 min', 'Date de sortie (Japon)': '15 septembre 2023', 'Date de sortie (France)': '15 janvier 2024', 'Réalisateur': 'Mari Okada', 'Scénariste': 'Mari Okada', 'Distributeur': 'Netflix', 'url': 'https://www.senscritique.com//film/maboroshi/44890190', 'rate': None, 'image': 'https://media.senscritique.com/media/000021805448/300/maboroshi.jpg', 'reviews': {'Positives': [], 'Negatives': []}}, 'En plein vol': {'Titre original': 'Lift', 'Genres': 'Action, Comédie', 'Année': '2024', \"Pays d'origine\": 'États-Unis', 'Durée': '1 h 44 min', 'Date de sortie (États-Unis)': '12 janvier 2024', 'Date de sortie (France)': '12 janvier 2024', 'Réalisateur': 'F. Gary Gray', 'Scénariste': 'Daniel Kunka', 'Producteurs': \"Patricia Braga, Audrey Chon, F. Gary Gray, Kevin Hart, Adam Kassan, Simon Kinberg, Charley McLeod, Brent O'Connor, Matt Reeves, Bryan Smiley\", 'Distributeur': 'Netflix', 'url': 'https://www.senscritique.com//film/en_plein_vol/47185924', 'rate': None, 'image': 'https://media.senscritique.com/media/000021854945/300/en_plein_vol.png', 'reviews': {'Positives': ['https://www.senscritique.com/film/en_plein_vol/critique/299912179', 'https://www.senscritique.com/film/en_plein_vol/critique/299923735', 'https://www.senscritique.com/film/en_plein_vol/critique/299915408'], 'Negatives': ['https://www.senscritique.com/film/en_plein_vol/critique/299912179', 'https://www.senscritique.com/film/en_plein_vol/critique/299923735', 'https://www.senscritique.com/film/en_plein_vol/critique/299915408']}}, 'The Uncle': {'Titre original': 'Stric', 'Genres': 'Drame, Thriller', 'Année': '2022', \"Pays d'origine\": 'Croatie, Serbie', 'Durée': '1 h 44 min', 'Date de sortie (France)': '15 janvier 2024', 'Réalisateurs': 'David Kapac, Andrija Mardesic', 'Scénaristes': 'David Kapac, Andrija Mardesic', 'Producteurs': 'Ivan Kelava, Milan Stojanović, Tomislav Vujic', 'url': 'https://www.senscritique.com//film/the_uncle/50756245', 'rate': 5.6, 'image': 'https://media.senscritique.com/media/000021412997/300/the_uncle.jpg', 'reviews': {'Positives': [], 'Negatives': []}}, 'Role Play': {'Genres': 'Thriller, Action', 'Année': '2023', \"Pays d'origine\": 'États-Unis', 'Durée': '1 h 40 min', 'Date de sortie (États-Unis)': '12 janvier 2024', 'Date de sortie (France)': '13 janvier 2024', 'Réalisateur': 'Thomas Vincent', 'Scénaristes': 'Seth W. Owen, Andrew Baldwin', 'Producteurs': 'Kaley Cuoco, Shana Eddy-Grouf, Luc Etienne, Christoph Fisser, Ron Halpern, Alex Heineman, George F. Heller, Anna Marsh, Henning Molfenter, Andrew Rona, Samuel Shipp, Charlie Woebcken', 'Distributeur': 'Prime Video', 'url': 'https://www.senscritique.com//film/role_play/47766229', 'rate': None, 'image': 'https://media.senscritique.com/media/000021741614/300/role_play.jpg', 'reviews': {'Positives': [], 'Negatives': []}}, 'Captain Miller': {'Genres': 'Action, Aventure, Thriller', 'Année': '2024', \"Pays d'origine\": 'Inde', 'Durée': '2 h 40 min', 'Date de sortie (Inde)': '12 janvier 2024', 'Date de sortie (France)': '12 janvier 2024', 'Réalisateur': 'Arun Matheswaran', 'Scénariste': 'Arun Matheswaran', 'Producteurs': 'G. Saravanan, Sai Siddharth, Arjun Thyagarajan, Sendhil Thyagarajan', 'Distributeur': 'Night ED films', 'url': 'https://www.senscritique.com//film/captain_miller/53962040', 'rate': None, 'image': 'https://media.senscritique.com/media/000021848153/300/captain_miller.png', 'reviews': {'Positives': [], 'Negatives': []}}, 'Takashi Miike : Le V-Empereur': {'Genres': 'Cinéma, Essai', \"Pays d'origine\": 'France, Belgique', 'Durée': '2 h 08 min', 'Date de sortie (France, Belgique)': '20 janvier 2024', 'Date de sortie (France)': '12 janvier 2024', 'Réalisateur': \"Azz L'épouvantail\", 'Budget': '3000', 'url': 'https://www.senscritique.com//film/takashi_miike_le_v_empereur/72303676', 'rate': None, 'image': 'https://media.senscritique.com/media/000021846154/300/takashi_miike_le_v_empereur.png', 'reviews': {'Positives': [], 'Negatives': []}}, 'Carajita': {'Genre': 'Drame', \"Pays d'origine\": 'Argentine, République dominicaine', 'Durée': '1 h 26 min', 'Date de sortie (Argentine, République dominicaine)': '25 novembre 2021', 'Date de sortie (France)': '15 janvier 2024', 'Réalisateurs': 'Ulises Porra, Silvina Schnicer', 'Scénaristes': 'Ulises Porra, Ulla Prida, Silvina Schnicer', 'Producteurs': 'Federico Eibuszyc, Alexandra Guerrero, Ulla Prida, Barbara Sarasola-Day', 'url': 'https://www.senscritique.com//film/carajita/45448414', 'rate': None, 'image': 'https://media.senscritique.com/media/000020279776/300/carajita.jpg', 'reviews': {'Positives': [], 'Negatives': []}}, 'Ayalaan': {'Genres': 'Comédie, Science-fiction, Action', 'Année': '2023', \"Pays d'origine\": 'Inde', 'Durée': '2 h 30 min', 'Date de sortie (Inde)': '12 janvier 2025', 'Date de sortie (France)': '12 janvier 2024', 'Réalisateur': 'R. Ravikumar', 'Scénariste': 'R. Ravikumar', 'Producteurs': 'R.D. Raja, Ravikumar', 'Distributeur': 'Friday Entertainment', 'url': 'https://www.senscritique.com//film/ayalaan/51728251', 'rate': None, 'image': 'https://media.senscritique.com/media/000021840046/300/ayalaan.png', 'reviews': {'Positives': [], 'Negatives': []}}, 'La Dernière Danse': {'Genre': 'Drame', 'Année': '2023', \"Pays d'origine\": 'France', 'Durée': '1 h 25 min', 'Date de sortie (France)': '10 janvier 2024', 'Réalisateur': 'Sabry Jarod', 'Scénaristes': 'Romain Debons, Sabry Jarod', 'Producteurs': 'Sabry Jarod, Alexandre Laugier', 'Distributeur': 'SOUTHfilms', 'url': 'https://www.senscritique.com//film/la_derniere_danse/68845284', 'rate': None, 'image': 'https://media.senscritique.com/media/000021792793/300/la_derniere_danse.jpg', 'reviews': {'Positives': [], 'Negatives': []}}, 'Merry Christmas': {'Genre': 'Thriller', 'Année': '2024', \"Pays d'origine\": 'Inde', 'Durée': '2 h 27 min', 'Date de sortie (Inde)': '12 janvier 2024', 'Date de sortie (France)': '12 janvier 2024', 'Réalisateur': 'Sriram Raghavan', 'Scénaristes': 'Sriram Raghavan, Arijit Biswas, Pooja Ladha Surti, Anukriti Pandey', 'Producteurs': 'Vishal Bajaj, Kewal Garg, Sanjay Routray, Kapil Sethi, Ramesh Sadhuram Taurani', 'Distributeur': 'Friday Entertainment', 'url': 'https://www.senscritique.com//film/merry_christmas/54649482', 'rate': None, 'image': 'https://media.senscritique.com/media/000021841117/300/merry_christmas.jpg', 'reviews': {'Positives': [], 'Negatives': []}}, 'Punch': {'Aussi connu sous le nom de': 'Панч', 'Genre': 'Épouvante-Horreur', \"Pays d'origine\": 'Royaume-Uni', 'Durée': '1 h 20 min', 'Date de sortie (Royaume-Uni)': '24 août 2023', 'Date de sortie (France)': '16 janvier 2024', 'Réalisateur': 'Andy Edwards', 'url': 'https://www.senscritique.com//film/punch/69693013', 'rate': None, 'image': 'https://media.senscritique.com/media/000021804063/300/punch.jpg', 'reviews': {'Positives': [], 'Negatives': []}}, 'Hanuman': {'Titre original': 'Hanu Man', 'Genres': 'Action, Aventure, Fantastique', 'Groupes': 'Hanuman, Prashanth Varma Cinematic Universe', 'Année': '2024', \"Pays d'origine\": 'Inde', 'Date de sortie (Inde)': '12 janvier 2024', 'Date de sortie (France)': '12 janvier 2024', 'Réalisateur': 'Prasanth Varma', 'Scénariste': 'Prasanth Varma', 'Producteurs': 'Asrinreddy, Kniranjanreddy', 'Distributeur': 'Filmy Distributions', 'url': 'https://www.senscritique.com//film/hanuman/53165126', 'rate': None, 'image': 'https://media.senscritique.com/media/000021841556/300/hanuman.png', 'reviews': {'Positives': [], 'Negatives': []}}, 'Guntur Kaaram': {'Aussi connu sous le nom de': 'SSMB 28, Amaravathi Atu Itu', 'Genres': 'Action, Comédie, Drame', 'Année': '2023', \"Pays d'origine\": 'Inde', 'Durée': '2 h 42 min', 'Date de sortie (Inde)': '13 janvier 2024', 'Date de sortie (France)': '12 janvier 2024', 'Réalisateur': 'Trivikram Srinivas', 'Scénariste': 'Trivikram Srinivas', 'Producteurs': 'S. Radha Krishna, P.D.V. Prasad, Suryadevara Naga Vamsi', 'Distributeur': 'Filmy Distributions', 'url': 'https://www.senscritique.com//film/guntur_kaaram/49900527', 'rate': None, 'image': 'https://media.senscritique.com/media/000021846308/300/guntur_kaaram.png', 'reviews': {'Positives': [], 'Negatives': []}}, 'Saindhav': {'Genres': 'Action, Thriller', 'Année': '2024', \"Pays d'origine\": 'Inde', 'Durée': '2 h 18 min', 'Date de sortie (Inde)': '13 janvier 2024', 'Date de sortie (France)': '13 janvier 2024', 'Réalisateur': 'Sailesh Kolanu', 'Scénariste': 'Sailesh Kolanu', 'Producteurs': 'Venkat Boyanapalli, Kishore Thallur', 'Distributeur': 'Friday Entertainment', 'url': 'https://www.senscritique.com//film/saindhav/55433689', 'rate': None, 'image': 'https://media.senscritique.com/media/000021288002/300/saindhav.jpg', 'reviews': {'Positives': [], 'Negatives': []}}}\n",
      "Done with all films, extracting reviews...\n"
     ]
    },
    {
     "name": "stderr",
     "output_type": "stream",
     "text": [
      "100%|██████████| 22/22 [01:10<00:00,  3.21s/it]"
     ]
    },
    {
     "name": "stdout",
     "output_type": "stream",
     "text": [
      "Done with all reviews\n"
     ]
    },
    {
     "name": "stderr",
     "output_type": "stream",
     "text": [
      "\n"
     ]
    }
   ],
   "source": [
    "extractor.extract_all_film_data()"
   ]
  },
  {
   "cell_type": "markdown",
   "metadata": {},
   "source": [
    "Normally, the longest step is behind us, it should take about 15 minutes"
   ]
  },
  {
   "cell_type": "markdown",
   "metadata": {},
   "source": [
    "## Data Transformation with the FilmTransformer Class\n",
    "\n",
    "To transform the extracted film data, we will use the `FilmTransformer` class. This class provides methods to clean and preprocess the data before loading it into the database. So, the transformation of numerical and categorical data and the embedding with TEI of the reviews.\"\n",
    "\n",
    "Here's an example of how to use the `FilmTransformer` class:"
   ]
  },
  {
   "cell_type": "code",
   "execution_count": 17,
   "metadata": {},
   "outputs": [
    {
     "name": "stdout",
     "output_type": "stream",
     "text": [
      "Computing embeddings...\n"
     ]
    },
    {
     "name": "stderr",
     "output_type": "stream",
     "text": [
      "100%|██████████| 124/124 [01:57<00:00,  1.06it/s]"
     ]
    },
    {
     "name": "stdout",
     "output_type": "stream",
     "text": [
      "Done with embeddings\n"
     ]
    },
    {
     "name": "stderr",
     "output_type": "stream",
     "text": [
      "\n"
     ]
    }
   ],
   "source": [
    "transformer = FilmTransformer(extractor)"
   ]
  },
  {
   "cell_type": "markdown",
   "metadata": {},
   "source": [
    "We can now visualize the data in the form of a dataframe, let's display for example the reviews:"
   ]
  },
  {
   "cell_type": "code",
   "execution_count": 20,
   "metadata": {},
   "outputs": [
    {
     "data": {
      "text/html": [
       "<div>\n",
       "<style scoped>\n",
       "    .dataframe tbody tr th:only-of-type {\n",
       "        vertical-align: middle;\n",
       "    }\n",
       "\n",
       "    .dataframe tbody tr th {\n",
       "        vertical-align: top;\n",
       "    }\n",
       "\n",
       "    .dataframe thead th {\n",
       "        text-align: right;\n",
       "    }\n",
       "</style>\n",
       "<table border=\"1\" class=\"dataframe\">\n",
       "  <thead>\n",
       "    <tr style=\"text-align: right;\">\n",
       "      <th></th>\n",
       "      <th>film</th>\n",
       "      <th>is_negative</th>\n",
       "      <th>title</th>\n",
       "      <th>likes</th>\n",
       "      <th>comments</th>\n",
       "      <th>content</th>\n",
       "      <th>url</th>\n",
       "      <th>embedding</th>\n",
       "    </tr>\n",
       "  </thead>\n",
       "  <tbody>\n",
       "    <tr>\n",
       "      <th>0</th>\n",
       "      <td>Shin Godzilla</td>\n",
       "      <td>False</td>\n",
       "      <td>Le colosse s'érode</td>\n",
       "      <td>98</td>\n",
       "      <td>49</td>\n",
       "      <td>Regarder la série des Godzilla, c’est admirer ...</td>\n",
       "      <td>https://www.senscritique.com/film/shin_godzill...</td>\n",
       "      <td>[-0.01608497, -0.006072742, 0.0033162965, -0.0...</td>\n",
       "    </tr>\n",
       "    <tr>\n",
       "      <th>1</th>\n",
       "      <td>Shin Godzilla</td>\n",
       "      <td>False</td>\n",
       "      <td>The Legend of Godzilla - A Link to the Past</td>\n",
       "      <td>63</td>\n",
       "      <td>37</td>\n",
       "      <td>[AVANT-PROPOS/AVERTISSEMENT : Voir ce film le ...</td>\n",
       "      <td>https://www.senscritique.com/film/shin_godzill...</td>\n",
       "      <td>[-0.004714112, -0.019787442, -0.02954265, -0.0...</td>\n",
       "    </tr>\n",
       "    <tr>\n",
       "      <th>2</th>\n",
       "      <td>Shin Godzilla</td>\n",
       "      <td>False</td>\n",
       "      <td>Godzilla contre les politiciens</td>\n",
       "      <td>25</td>\n",
       "      <td>8</td>\n",
       "      <td>Le dernier Godzilla japonais produit par la To...</td>\n",
       "      <td>https://www.senscritique.com/film/shin_godzill...</td>\n",
       "      <td>[0.0077194446, -0.009460152, -0.0062741246, -0...</td>\n",
       "    </tr>\n",
       "    <tr>\n",
       "      <th>3</th>\n",
       "      <td>Shin Godzilla</td>\n",
       "      <td>False</td>\n",
       "      <td>Premier impact</td>\n",
       "      <td>18</td>\n",
       "      <td>2</td>\n",
       "      <td>Ce qui frappe dès le début c'est la marque de ...</td>\n",
       "      <td>https://www.senscritique.com/film/shin_godzill...</td>\n",
       "      <td>[0.010712562, -0.044431668, -0.006084309, -0.0...</td>\n",
       "    </tr>\n",
       "    <tr>\n",
       "      <th>4</th>\n",
       "      <td>Shin Godzilla</td>\n",
       "      <td>False</td>\n",
       "      <td>Gojira's Rising</td>\n",
       "      <td>15</td>\n",
       "      <td>4</td>\n",
       "      <td>Après la version correcte de Gareth Edwards, v...</td>\n",
       "      <td>https://www.senscritique.com/film/shin_godzill...</td>\n",
       "      <td>[0.024141837, -0.03297161, -0.003320909, -0.06...</td>\n",
       "    </tr>\n",
       "    <tr>\n",
       "      <th>...</th>\n",
       "      <td>...</td>\n",
       "      <td>...</td>\n",
       "      <td>...</td>\n",
       "      <td>...</td>\n",
       "      <td>...</td>\n",
       "      <td>...</td>\n",
       "      <td>...</td>\n",
       "      <td>...</td>\n",
       "    </tr>\n",
       "    <tr>\n",
       "      <th>119</th>\n",
       "      <td>En plein vol</td>\n",
       "      <td>False</td>\n",
       "      <td>Un navet du vendredi soir qui s'est transformé...</td>\n",
       "      <td>0</td>\n",
       "      <td>0</td>\n",
       "      <td>J'arrive sur Netflix ce soir.</td>\n",
       "      <td>https://www.senscritique.com/film/en_plein_vol...</td>\n",
       "      <td>[-0.020022819, -0.015799869, -0.002310835, -0....</td>\n",
       "    </tr>\n",
       "    <tr>\n",
       "      <th>120</th>\n",
       "      <td>En plein vol</td>\n",
       "      <td>False</td>\n",
       "      <td>Trop c'est trop</td>\n",
       "      <td>0</td>\n",
       "      <td>0</td>\n",
       "      <td>C'est très à la mode les équipes de voleurs sy...</td>\n",
       "      <td>https://www.senscritique.com/film/en_plein_vol...</td>\n",
       "      <td>[0.0148394285, -0.0019226844, -0.041255392, -0...</td>\n",
       "    </tr>\n",
       "    <tr>\n",
       "      <th>121</th>\n",
       "      <td>En plein vol</td>\n",
       "      <td>True</td>\n",
       "      <td>Navet</td>\n",
       "      <td>1</td>\n",
       "      <td>0</td>\n",
       "      <td>Encore du fric fout par la fenêtre pour un gro...</td>\n",
       "      <td>https://www.senscritique.com/film/en_plein_vol...</td>\n",
       "      <td>[0.013324497, 0.013040972, -0.016943585, -0.04...</td>\n",
       "    </tr>\n",
       "    <tr>\n",
       "      <th>122</th>\n",
       "      <td>En plein vol</td>\n",
       "      <td>True</td>\n",
       "      <td>Un navet du vendredi soir qui s'est transformé...</td>\n",
       "      <td>0</td>\n",
       "      <td>0</td>\n",
       "      <td>J'arrive sur Netflix ce soir.</td>\n",
       "      <td>https://www.senscritique.com/film/en_plein_vol...</td>\n",
       "      <td>[-0.020022819, -0.015799869, -0.002310835, -0....</td>\n",
       "    </tr>\n",
       "    <tr>\n",
       "      <th>123</th>\n",
       "      <td>En plein vol</td>\n",
       "      <td>True</td>\n",
       "      <td>Trop c'est trop</td>\n",
       "      <td>0</td>\n",
       "      <td>0</td>\n",
       "      <td>C'est très à la mode les équipes de voleurs sy...</td>\n",
       "      <td>https://www.senscritique.com/film/en_plein_vol...</td>\n",
       "      <td>[0.0148394285, -0.0019226844, -0.041255392, -0...</td>\n",
       "    </tr>\n",
       "  </tbody>\n",
       "</table>\n",
       "<p>124 rows × 8 columns</p>\n",
       "</div>"
      ],
      "text/plain": [
       "              film is_negative  \\\n",
       "0    Shin Godzilla       False   \n",
       "1    Shin Godzilla       False   \n",
       "2    Shin Godzilla       False   \n",
       "3    Shin Godzilla       False   \n",
       "4    Shin Godzilla       False   \n",
       "..             ...         ...   \n",
       "119   En plein vol       False   \n",
       "120   En plein vol       False   \n",
       "121   En plein vol        True   \n",
       "122   En plein vol        True   \n",
       "123   En plein vol        True   \n",
       "\n",
       "                                                 title  likes  comments  \\\n",
       "0                                   Le colosse s'érode     98        49   \n",
       "1          The Legend of Godzilla - A Link to the Past     63        37   \n",
       "2                      Godzilla contre les politiciens     25         8   \n",
       "3                                       Premier impact     18         2   \n",
       "4                                      Gojira's Rising     15         4   \n",
       "..                                                 ...    ...       ...   \n",
       "119  Un navet du vendredi soir qui s'est transformé...      0         0   \n",
       "120                                    Trop c'est trop      0         0   \n",
       "121                                              Navet      1         0   \n",
       "122  Un navet du vendredi soir qui s'est transformé...      0         0   \n",
       "123                                    Trop c'est trop      0         0   \n",
       "\n",
       "                                               content  \\\n",
       "0    Regarder la série des Godzilla, c’est admirer ...   \n",
       "1    [AVANT-PROPOS/AVERTISSEMENT : Voir ce film le ...   \n",
       "2    Le dernier Godzilla japonais produit par la To...   \n",
       "3    Ce qui frappe dès le début c'est la marque de ...   \n",
       "4    Après la version correcte de Gareth Edwards, v...   \n",
       "..                                                 ...   \n",
       "119                      J'arrive sur Netflix ce soir.   \n",
       "120  C'est très à la mode les équipes de voleurs sy...   \n",
       "121  Encore du fric fout par la fenêtre pour un gro...   \n",
       "122                      J'arrive sur Netflix ce soir.   \n",
       "123  C'est très à la mode les équipes de voleurs sy...   \n",
       "\n",
       "                                                   url  \\\n",
       "0    https://www.senscritique.com/film/shin_godzill...   \n",
       "1    https://www.senscritique.com/film/shin_godzill...   \n",
       "2    https://www.senscritique.com/film/shin_godzill...   \n",
       "3    https://www.senscritique.com/film/shin_godzill...   \n",
       "4    https://www.senscritique.com/film/shin_godzill...   \n",
       "..                                                 ...   \n",
       "119  https://www.senscritique.com/film/en_plein_vol...   \n",
       "120  https://www.senscritique.com/film/en_plein_vol...   \n",
       "121  https://www.senscritique.com/film/en_plein_vol...   \n",
       "122  https://www.senscritique.com/film/en_plein_vol...   \n",
       "123  https://www.senscritique.com/film/en_plein_vol...   \n",
       "\n",
       "                                             embedding  \n",
       "0    [-0.01608497, -0.006072742, 0.0033162965, -0.0...  \n",
       "1    [-0.004714112, -0.019787442, -0.02954265, -0.0...  \n",
       "2    [0.0077194446, -0.009460152, -0.0062741246, -0...  \n",
       "3    [0.010712562, -0.044431668, -0.006084309, -0.0...  \n",
       "4    [0.024141837, -0.03297161, -0.003320909, -0.06...  \n",
       "..                                                 ...  \n",
       "119  [-0.020022819, -0.015799869, -0.002310835, -0....  \n",
       "120  [0.0148394285, -0.0019226844, -0.041255392, -0...  \n",
       "121  [0.013324497, 0.013040972, -0.016943585, -0.04...  \n",
       "122  [-0.020022819, -0.015799869, -0.002310835, -0....  \n",
       "123  [0.0148394285, -0.0019226844, -0.041255392, -0...  \n",
       "\n",
       "[124 rows x 8 columns]"
      ]
     },
     "execution_count": 20,
     "metadata": {},
     "output_type": "execute_result"
    }
   ],
   "source": [
    "transformer.df_reviews"
   ]
  },
  {
   "cell_type": "markdown",
   "metadata": {},
   "source": [
    "We see several pieces of information such as likes, content, and their embedding done by the LLM"
   ]
  },
  {
   "cell_type": "markdown",
   "metadata": {},
   "source": [
    "# `SetupPGVector` class to create the PGVector database schema. \n",
    "\n",
    "This class provides a method to set up the necessary tables and indexes for the ETL process.\n",
    "\n",
    "Here's an example of how to use the `SetupPGVector` class:"
   ]
  },
  {
   "cell_type": "code",
   "execution_count": null,
   "metadata": {},
   "outputs": [],
   "source": [
    "# If the database schema does not exist, create it\n",
    "\n",
    "#    setup = SetupPGVector(dbname=os.getenv(\"PG_DBNAME\"), user=os.getenv(\"PG_USER\"), password=os.getenv(\"PG_DBPASSWORD\"), host=os.getenv(\"PG_HOSTNAME\"), port=os.getenv(\"PG_HPORT\"))\n",
    "#    setup.setup_vdb()"
   ]
  },
  {
   "cell_type": "markdown",
   "metadata": {},
   "source": [
    "# Load data into the Vector Data Base with the `FilmLoader` class\n",
    "\n",
    "This class allows connecting to the VectorDataBase through the psycopg2 driver and integrating documents using the loading method"
   ]
  },
  {
   "cell_type": "code",
   "execution_count": 18,
   "metadata": {},
   "outputs": [
    {
     "name": "stdout",
     "output_type": "stream",
     "text": [
      "Connecting to database: dbname=postgres user=postgres password=dw2 host=0.0.0.0 port=5432\n",
      "Connected to database\n",
      "Loading data...\n",
      "Done with loading\n"
     ]
    }
   ],
   "source": [
    "loader = FilmLoader(transformer, dbname=os.getenv(\"PG_DBNAME\"), user=os.getenv(\"PG_USER\"), password=os.getenv(\"PG_DBPASSWORD\"), host=os.getenv(\"PG_HOSTNAME\"), port=os.getenv(\"PG_HPORT\"))\n",
    "loader.loading()"
   ]
  },
  {
   "cell_type": "markdown",
   "metadata": {},
   "source": [
    "# ETL Done\n",
    "\n",
    "At this stage, the ETL is performed manually in a notebook for those who particularly appreciate it. To consult the data, simply go to the vector database as follows:\n",
    "\n",
    "```bash \n",
    "docker exec -it db_sc psql -U postgres\n",
    "```\n",
    "And then in psql client make a query \n",
    "```bash\n",
    "SELECT embedding FROM reviews;\n",
    "```"
   ]
  }
 ],
 "metadata": {
  "kernelspec": {
   "display_name": "movies",
   "language": "python",
   "name": "python3"
  },
  "language_info": {
   "codemirror_mode": {
    "name": "ipython",
    "version": 3
   },
   "file_extension": ".py",
   "mimetype": "text/x-python",
   "name": "python",
   "nbconvert_exporter": "python",
   "pygments_lexer": "ipython3",
   "version": "3.11.5"
  }
 },
 "nbformat": 4,
 "nbformat_minor": 2
}
